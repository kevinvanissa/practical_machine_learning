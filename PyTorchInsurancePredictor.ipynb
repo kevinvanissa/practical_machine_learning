{
 "cells": [
  {
   "cell_type": "markdown",
   "id": "fdc1c0d5-c6a9-405b-97ad-8f8f8448602e",
   "metadata": {},
   "source": [
    "# PyTorch Insurance Charges Predictor"
   ]
  },
  {
   "cell_type": "markdown",
   "id": "594a2518-2015-45cb-b62d-c3488fe8aa0f",
   "metadata": {},
   "source": [
    "This is a follow up to the post: [A Practical Approach to Building and Evaluating Machine Learning Models](https://blog.kmillerapps.com/post/a-practical-approach-to-building-and-evaluating-machine-learning-models)\n",
    "- In this post, I will use PyTorch to see if I can get a better performance. This post will not be as detailed as the original post, but I will comment as best as I can so that you can follow."
   ]
  },
  {
   "cell_type": "markdown",
   "id": "bfceb947-9959-4b33-a2f3-51d2db7bf9eb",
   "metadata": {},
   "source": [
    "## 1. Import Libraries"
   ]
  },
  {
   "cell_type": "code",
   "execution_count": 1,
   "id": "21131d00-0f61-48f9-8d01-b17ab1530335",
   "metadata": {},
   "outputs": [],
   "source": [
    "import torch\n",
    "import torch.nn as nn\n",
    "import torch.optim as optim\n",
    "from sklearn.model_selection import train_test_split\n",
    "from sklearn.preprocessing import StandardScaler, OneHotEncoder, OrdinalEncoder\n",
    "from sklearn.compose import ColumnTransformer\n",
    "from sklearn.pipeline import Pipeline\n",
    "from sklearn.metrics import mean_squared_error\n",
    "import pandas as pd\n",
    "import numpy as np\n",
    "import matplotlib.pyplot as plt"
   ]
  },
  {
   "cell_type": "markdown",
   "id": "26fd12ab-f6d8-46d0-b9e5-ea2231b211bc",
   "metadata": {},
   "source": [
    "## 2. Load Data"
   ]
  },
  {
   "cell_type": "code",
   "execution_count": 2,
   "id": "6d9887f7-8cf3-467c-b156-d5cc50998f21",
   "metadata": {},
   "outputs": [
    {
     "data": {
      "text/html": [
       "<div>\n",
       "<style scoped>\n",
       "    .dataframe tbody tr th:only-of-type {\n",
       "        vertical-align: middle;\n",
       "    }\n",
       "\n",
       "    .dataframe tbody tr th {\n",
       "        vertical-align: top;\n",
       "    }\n",
       "\n",
       "    .dataframe thead th {\n",
       "        text-align: right;\n",
       "    }\n",
       "</style>\n",
       "<table border=\"1\" class=\"dataframe\">\n",
       "  <thead>\n",
       "    <tr style=\"text-align: right;\">\n",
       "      <th></th>\n",
       "      <th>age</th>\n",
       "      <th>sex</th>\n",
       "      <th>bmi</th>\n",
       "      <th>children</th>\n",
       "      <th>smoker</th>\n",
       "      <th>region</th>\n",
       "      <th>charges</th>\n",
       "    </tr>\n",
       "  </thead>\n",
       "  <tbody>\n",
       "    <tr>\n",
       "      <th>0</th>\n",
       "      <td>19</td>\n",
       "      <td>female</td>\n",
       "      <td>27.900</td>\n",
       "      <td>0</td>\n",
       "      <td>yes</td>\n",
       "      <td>southwest</td>\n",
       "      <td>16884.92400</td>\n",
       "    </tr>\n",
       "    <tr>\n",
       "      <th>1</th>\n",
       "      <td>18</td>\n",
       "      <td>male</td>\n",
       "      <td>33.770</td>\n",
       "      <td>1</td>\n",
       "      <td>no</td>\n",
       "      <td>southeast</td>\n",
       "      <td>1725.55230</td>\n",
       "    </tr>\n",
       "    <tr>\n",
       "      <th>2</th>\n",
       "      <td>28</td>\n",
       "      <td>male</td>\n",
       "      <td>33.000</td>\n",
       "      <td>3</td>\n",
       "      <td>no</td>\n",
       "      <td>southeast</td>\n",
       "      <td>4449.46200</td>\n",
       "    </tr>\n",
       "    <tr>\n",
       "      <th>3</th>\n",
       "      <td>33</td>\n",
       "      <td>male</td>\n",
       "      <td>22.705</td>\n",
       "      <td>0</td>\n",
       "      <td>no</td>\n",
       "      <td>northwest</td>\n",
       "      <td>21984.47061</td>\n",
       "    </tr>\n",
       "    <tr>\n",
       "      <th>4</th>\n",
       "      <td>32</td>\n",
       "      <td>male</td>\n",
       "      <td>28.880</td>\n",
       "      <td>0</td>\n",
       "      <td>no</td>\n",
       "      <td>northwest</td>\n",
       "      <td>3866.85520</td>\n",
       "    </tr>\n",
       "  </tbody>\n",
       "</table>\n",
       "</div>"
      ],
      "text/plain": [
       "   age     sex     bmi  children smoker     region      charges\n",
       "0   19  female  27.900         0    yes  southwest  16884.92400\n",
       "1   18    male  33.770         1     no  southeast   1725.55230\n",
       "2   28    male  33.000         3     no  southeast   4449.46200\n",
       "3   33    male  22.705         0     no  northwest  21984.47061\n",
       "4   32    male  28.880         0     no  northwest   3866.85520"
      ]
     },
     "execution_count": 2,
     "metadata": {},
     "output_type": "execute_result"
    }
   ],
   "source": [
    "# Load data\n",
    "df = pd.read_csv('./insurance.csv')\n",
    "df.head()"
   ]
  },
  {
   "cell_type": "markdown",
   "id": "668b9629-08f8-4625-aab2-13e0d0392bcb",
   "metadata": {},
   "source": [
    "## 3. Preprocess"
   ]
  },
  {
   "cell_type": "code",
   "execution_count": 3,
   "id": "78a4e166-0df9-4c22-86a3-d0518f515db4",
   "metadata": {},
   "outputs": [
    {
     "data": {
      "text/html": [
       "<div>\n",
       "<style scoped>\n",
       "    .dataframe tbody tr th:only-of-type {\n",
       "        vertical-align: middle;\n",
       "    }\n",
       "\n",
       "    .dataframe tbody tr th {\n",
       "        vertical-align: top;\n",
       "    }\n",
       "\n",
       "    .dataframe thead th {\n",
       "        text-align: right;\n",
       "    }\n",
       "</style>\n",
       "<table border=\"1\" class=\"dataframe\">\n",
       "  <thead>\n",
       "    <tr style=\"text-align: right;\">\n",
       "      <th></th>\n",
       "      <th>age</th>\n",
       "      <th>sex</th>\n",
       "      <th>bmi</th>\n",
       "      <th>children</th>\n",
       "      <th>smoker</th>\n",
       "      <th>region</th>\n",
       "      <th>charges</th>\n",
       "      <th>age_range</th>\n",
       "    </tr>\n",
       "  </thead>\n",
       "  <tbody>\n",
       "    <tr>\n",
       "      <th>0</th>\n",
       "      <td>19</td>\n",
       "      <td>female</td>\n",
       "      <td>27.900</td>\n",
       "      <td>0</td>\n",
       "      <td>yes</td>\n",
       "      <td>southwest</td>\n",
       "      <td>16884.92400</td>\n",
       "      <td>1</td>\n",
       "    </tr>\n",
       "    <tr>\n",
       "      <th>1</th>\n",
       "      <td>18</td>\n",
       "      <td>male</td>\n",
       "      <td>33.770</td>\n",
       "      <td>1</td>\n",
       "      <td>no</td>\n",
       "      <td>southeast</td>\n",
       "      <td>1725.55230</td>\n",
       "      <td>1</td>\n",
       "    </tr>\n",
       "    <tr>\n",
       "      <th>2</th>\n",
       "      <td>28</td>\n",
       "      <td>male</td>\n",
       "      <td>33.000</td>\n",
       "      <td>3</td>\n",
       "      <td>no</td>\n",
       "      <td>southeast</td>\n",
       "      <td>4449.46200</td>\n",
       "      <td>1</td>\n",
       "    </tr>\n",
       "    <tr>\n",
       "      <th>3</th>\n",
       "      <td>33</td>\n",
       "      <td>male</td>\n",
       "      <td>22.705</td>\n",
       "      <td>0</td>\n",
       "      <td>no</td>\n",
       "      <td>northwest</td>\n",
       "      <td>21984.47061</td>\n",
       "      <td>2</td>\n",
       "    </tr>\n",
       "    <tr>\n",
       "      <th>4</th>\n",
       "      <td>32</td>\n",
       "      <td>male</td>\n",
       "      <td>28.880</td>\n",
       "      <td>0</td>\n",
       "      <td>no</td>\n",
       "      <td>northwest</td>\n",
       "      <td>3866.85520</td>\n",
       "      <td>2</td>\n",
       "    </tr>\n",
       "  </tbody>\n",
       "</table>\n",
       "</div>"
      ],
      "text/plain": [
       "   age     sex     bmi  children smoker     region      charges age_range\n",
       "0   19  female  27.900         0    yes  southwest  16884.92400         1\n",
       "1   18    male  33.770         1     no  southeast   1725.55230         1\n",
       "2   28    male  33.000         3     no  southeast   4449.46200         1\n",
       "3   33    male  22.705         0     no  northwest  21984.47061         2\n",
       "4   32    male  28.880         0     no  northwest   3866.85520         2"
      ]
     },
     "execution_count": 3,
     "metadata": {},
     "output_type": "execute_result"
    }
   ],
   "source": [
    "# Feature Engineering: Add extra column\n",
    "bins = [0, 18, 30, 50, 70, float('inf')]  # Age ranges. Use float('inf') so that we don't have to manually set upperbound\n",
    "labels = [0, 1, 2, 3, 4]  # Corresponding labels\n",
    "df['age_range'] = pd.cut(df['age'], bins=bins, labels=labels, right=False ) # right=False to get distinct ranges, no overlaps\n",
    "df.head()"
   ]
  },
  {
   "cell_type": "code",
   "execution_count": 4,
   "id": "d092be89-e206-4afe-8fe4-928384f78cc4",
   "metadata": {},
   "outputs": [],
   "source": [
    "# Normalize and Encode the data\n",
    "preprocessor = ColumnTransformer(\n",
    "    transformers = [\n",
    "        ('num', StandardScaler(), ['age', 'bmi', 'children']),\n",
    "        ('cat_nom', OneHotEncoder(), ['sex', 'smoker', 'region']),\n",
    "        ('cat_ord', OrdinalEncoder(), ['age_range'])\n",
    "    ],\n",
    "    remainder='passthrough'\n",
    ")"
   ]
  },
  {
   "cell_type": "markdown",
   "id": "74ea74c4-856e-47dd-a512-8d1ece177a17",
   "metadata": {},
   "source": [
    "## 4. Split data into training, validation and testing sets"
   ]
  },
  {
   "cell_type": "code",
   "execution_count": 5,
   "id": "43c087e1-698d-43e1-8ebd-290237346394",
   "metadata": {},
   "outputs": [
    {
     "data": {
      "text/html": [
       "<div>\n",
       "<style scoped>\n",
       "    .dataframe tbody tr th:only-of-type {\n",
       "        vertical-align: middle;\n",
       "    }\n",
       "\n",
       "    .dataframe tbody tr th {\n",
       "        vertical-align: top;\n",
       "    }\n",
       "\n",
       "    .dataframe thead th {\n",
       "        text-align: right;\n",
       "    }\n",
       "</style>\n",
       "<table border=\"1\" class=\"dataframe\">\n",
       "  <thead>\n",
       "    <tr style=\"text-align: right;\">\n",
       "      <th></th>\n",
       "      <th>age</th>\n",
       "      <th>sex</th>\n",
       "      <th>bmi</th>\n",
       "      <th>children</th>\n",
       "      <th>smoker</th>\n",
       "      <th>region</th>\n",
       "      <th>charges</th>\n",
       "      <th>age_range</th>\n",
       "    </tr>\n",
       "  </thead>\n",
       "  <tbody>\n",
       "    <tr>\n",
       "      <th>0</th>\n",
       "      <td>45</td>\n",
       "      <td>female</td>\n",
       "      <td>25.175</td>\n",
       "      <td>2</td>\n",
       "      <td>no</td>\n",
       "      <td>northeast</td>\n",
       "      <td>9095.06825</td>\n",
       "      <td>2</td>\n",
       "    </tr>\n",
       "    <tr>\n",
       "      <th>1</th>\n",
       "      <td>36</td>\n",
       "      <td>female</td>\n",
       "      <td>30.020</td>\n",
       "      <td>0</td>\n",
       "      <td>no</td>\n",
       "      <td>northwest</td>\n",
       "      <td>5272.17580</td>\n",
       "      <td>2</td>\n",
       "    </tr>\n",
       "    <tr>\n",
       "      <th>2</th>\n",
       "      <td>64</td>\n",
       "      <td>female</td>\n",
       "      <td>26.885</td>\n",
       "      <td>0</td>\n",
       "      <td>yes</td>\n",
       "      <td>northwest</td>\n",
       "      <td>29330.98315</td>\n",
       "      <td>3</td>\n",
       "    </tr>\n",
       "    <tr>\n",
       "      <th>3</th>\n",
       "      <td>46</td>\n",
       "      <td>male</td>\n",
       "      <td>25.745</td>\n",
       "      <td>3</td>\n",
       "      <td>no</td>\n",
       "      <td>northwest</td>\n",
       "      <td>9301.89355</td>\n",
       "      <td>2</td>\n",
       "    </tr>\n",
       "    <tr>\n",
       "      <th>4</th>\n",
       "      <td>19</td>\n",
       "      <td>male</td>\n",
       "      <td>31.920</td>\n",
       "      <td>0</td>\n",
       "      <td>yes</td>\n",
       "      <td>northwest</td>\n",
       "      <td>33750.29180</td>\n",
       "      <td>1</td>\n",
       "    </tr>\n",
       "  </tbody>\n",
       "</table>\n",
       "</div>"
      ],
      "text/plain": [
       "   age     sex     bmi  children smoker     region      charges age_range\n",
       "0   45  female  25.175         2     no  northeast   9095.06825         2\n",
       "1   36  female  30.020         0     no  northwest   5272.17580         2\n",
       "2   64  female  26.885         0    yes  northwest  29330.98315         3\n",
       "3   46    male  25.745         3     no  northwest   9301.89355         2\n",
       "4   19    male  31.920         0    yes  northwest  33750.29180         1"
      ]
     },
     "execution_count": 5,
     "metadata": {},
     "output_type": "execute_result"
    }
   ],
   "source": [
    "# Shuffle as the plan is the manually take 85% for Train/Test and leave 15% for Validation\n",
    "df_shuffle = df.sample(frac=1, random_state=42).reset_index(drop=True)\n",
    "df_shuffle.head()"
   ]
  },
  {
   "cell_type": "code",
   "execution_count": 6,
   "id": "6ac7fd72-5b31-4dc9-8517-64f221790cf3",
   "metadata": {},
   "outputs": [
    {
     "data": {
      "text/plain": [
       "(1338, 8)"
      ]
     },
     "execution_count": 6,
     "metadata": {},
     "output_type": "execute_result"
    }
   ],
   "source": [
    "# Check the shape\n",
    "df_shuffle.shape"
   ]
  },
  {
   "cell_type": "code",
   "execution_count": 7,
   "id": "56ad6aa3-a9c4-4335-9bf9-d890086b0392",
   "metadata": {},
   "outputs": [
    {
     "data": {
      "text/plain": [
       "(1137, 8)"
      ]
     },
     "execution_count": 7,
     "metadata": {},
     "output_type": "execute_result"
    }
   ],
   "source": [
    "# Take 85% of the data to split into Train/Test. The other 15% will be for validation\n",
    "train_test = int(0.85 * df_shuffle.shape[0])\n",
    "df_train_test = df_shuffle[:train_test]\n",
    "df_train_test.shape"
   ]
  },
  {
   "cell_type": "code",
   "execution_count": 8,
   "id": "aee5316e-d940-4115-bd48-37f422fd358e",
   "metadata": {},
   "outputs": [
    {
     "data": {
      "text/plain": [
       "(201, 8)"
      ]
     },
     "execution_count": 8,
     "metadata": {},
     "output_type": "execute_result"
    }
   ],
   "source": [
    "# Check the remaining for validation\n",
    "df_validation = df_shuffle[train_test:]\n",
    "df_validation.shape"
   ]
  },
  {
   "cell_type": "code",
   "execution_count": 9,
   "id": "7a1f8324-0dd0-40fb-925e-d09ac5bc10b5",
   "metadata": {},
   "outputs": [
    {
     "name": "stdout",
     "output_type": "stream",
     "text": [
      "X_train : (909, 7)\n",
      "X_test: (228, 7)\n",
      "y_train : (909,)\n",
      "y_test: (228,)\n",
      "\n",
      "\n",
      "X_val : (201, 7)\n",
      "y_val: (201,)\n"
     ]
    }
   ],
   "source": [
    "# Train and Test Set\n",
    "X = df_train_test.drop(columns='charges')  # Features\n",
    "y = df_train_test['charges']  # Target\n",
    "\n",
    "# Split the 85% of total dataset into Train/Test using train_test_split\n",
    "X_train, X_test, y_train, y_test = train_test_split(X, y, test_size=0.2, random_state=42)\n",
    "\n",
    "# Prepare validation Set\n",
    "X_val = df_validation.drop(columns='charges') # Features for Validation\n",
    "y_val = df_validation['charges'] # Target for Validation\n",
    "\n",
    "print(f\"X_train : {X_train.shape}\")\n",
    "print(f\"X_test: {X_test.shape}\")\n",
    "print(f\"y_train : {y_train.shape}\")\n",
    "print(f\"y_test: {y_test.shape}\")\n",
    "print(\"\\n\")\n",
    "print(f\"X_val : {X_val.shape}\")\n",
    "print(f\"y_val: {y_val.shape}\")\n"
   ]
  },
  {
   "cell_type": "code",
   "execution_count": 10,
   "id": "6a72d26c-8192-4f6c-80d0-b1002c0c4cf8",
   "metadata": {},
   "outputs": [],
   "source": [
    "# Apply preprocessing to features\n",
    "X_train = preprocessor.fit_transform(X_train)\n",
    "X_val = preprocessor.transform(X_val)\n",
    "X_test = preprocessor.transform(X_test)"
   ]
  },
  {
   "cell_type": "code",
   "execution_count": 11,
   "id": "5c86cbb6-654c-423e-8aa1-835634df393a",
   "metadata": {},
   "outputs": [],
   "source": [
    "# convert the data to PyTorch Tensors\n",
    "X_train_tensor = torch.tensor(X_train, dtype=torch.float32)\n",
    "X_val_tensor = torch.tensor(X_val, dtype=torch.float32)\n",
    "X_test_tensor = torch.tensor(X_test, dtype=torch.float32)"
   ]
  },
  {
   "cell_type": "code",
   "execution_count": 12,
   "id": "979a28f5-4f74-453d-8f0d-a24cf63e2e78",
   "metadata": {},
   "outputs": [],
   "source": [
    "# Convert to tensor and ensure the shape is a column vector using .view(-1, 1)\n",
    "y_train_tensor = torch.tensor(y_train.values, dtype=torch.float32).view(-1, 1)\n",
    "y_val_tensor = torch.tensor(y_val.values, dtype=torch.float32).view(-1, 1)\n",
    "y_test_tensor = torch.tensor(y_test.values, dtype=torch.float32).view(-1, 1)"
   ]
  },
  {
   "cell_type": "markdown",
   "id": "5ed74cd1-f68b-469e-a432-6723c1f878e9",
   "metadata": {},
   "source": [
    "# 5. Define PyTorch Model"
   ]
  },
  {
   "cell_type": "code",
   "execution_count": 13,
   "id": "183dcab8-9e73-43a0-ba57-5c919433da6a",
   "metadata": {},
   "outputs": [],
   "source": [
    "class InsuranceRegressionModel(nn.Module):\n",
    "    def __init__(self, input_dim, hidden1=32, hidden2=64):\n",
    "        super(InsuranceRegressionModel, self).__init__()\n",
    "        # Define a simple feedforward neural network with one hidden layer\n",
    "        self.connected1 = nn.Linear(input_dim, hidden1)  # 32 default neurons in the hidden1 layer\n",
    "        self.relu = nn.ReLU()  # ReLU activation function\n",
    "        self.connected2 = nn.Linear(hidden1, hidden2)\n",
    "        self.output = nn.Linear(hidden2, 1)  # Output layer (1 for regression)\n",
    "\n",
    "    def forward(self, x):\n",
    "        x = self.connected1(x)\n",
    "        x = self.relu(x)\n",
    "        x = self.connected2(x)\n",
    "        x = self.output(x)\n",
    "        return x\n"
   ]
  },
  {
   "cell_type": "code",
   "execution_count": 14,
   "id": "ac989dda-01f4-4709-86a7-72e22e5206ab",
   "metadata": {},
   "outputs": [],
   "source": [
    "# Instantiate the model\n",
    "model = InsuranceRegressionModel(input_dim=X_train.shape[1])"
   ]
  },
  {
   "cell_type": "code",
   "execution_count": 15,
   "id": "8d00295b-ae03-4bf5-b817-510562148457",
   "metadata": {},
   "outputs": [],
   "source": [
    "# Step 5: Define the loss function and optimizer\n",
    "loss_fn = nn.MSELoss()  # Mean Squared Error (MSE) loss for regression\n",
    "optimizer = optim.Adam(model.parameters(), lr=0.001)  # Adam optimizer"
   ]
  },
  {
   "cell_type": "code",
   "execution_count": 16,
   "id": "b805e3b8-bf94-495c-a793-3e9f7acc89d4",
   "metadata": {},
   "outputs": [
    {
     "name": "stdout",
     "output_type": "stream",
     "text": [
      "Epoch [1000/10000], Train Loss: 100962144.0000, Val Loss: 98726376.0000\n",
      "Epoch [2000/10000], Train Loss: 42176300.0000, Val Loss: 39967220.0000\n",
      "Epoch [3000/10000], Train Loss: 34007108.0000, Val Loss: 30620632.0000\n",
      "Epoch [4000/10000], Train Loss: 29735818.0000, Val Loss: 27427832.0000\n",
      "Epoch [5000/10000], Train Loss: 26510882.0000, Val Loss: 24808692.0000\n",
      "Epoch [6000/10000], Train Loss: 25005498.0000, Val Loss: 23995366.0000\n",
      "Epoch [7000/10000], Train Loss: 24483010.0000, Val Loss: 23914210.0000\n",
      "Epoch [8000/10000], Train Loss: 24261950.0000, Val Loss: 23923108.0000\n",
      "Epoch [9000/10000], Train Loss: 24151316.0000, Val Loss: 23928700.0000\n",
      "Epoch [10000/10000], Train Loss: 24081660.0000, Val Loss: 23992286.0000\n"
     ]
    }
   ],
   "source": [
    "# Step 6: Training the model with validation set\n",
    "n_epochs = 10000\n",
    "training_losses = []\n",
    "validation_losses = []\n",
    "for epoch in range(n_epochs):\n",
    "    \n",
    "    # Set model to training mode\n",
    "    model.train()  \n",
    "    \n",
    "    # Zero the gradients before running the backward pass\n",
    "    optimizer.zero_grad()\n",
    "    \n",
    "    # Forward pass -- Compute predicted charges by passing X_train through the model\n",
    "    y_pred_train = model(X_train_tensor)\n",
    "    \n",
    "    # Compute the loss on the training set\n",
    "    train_loss = loss_fn(y_pred_train, y_train_tensor)\n",
    "    training_losses.append(train_loss.item())\n",
    "    \n",
    "    # Backward pass -- Compute gradient of the loss w.r.t. to model parameters\n",
    "    train_loss.backward()\n",
    "    \n",
    "    # Update parameters using the optimizer\n",
    "    optimizer.step()\n",
    "    \n",
    "    # Validation phase -- Compute loss on the validation set\n",
    "    model.eval()  # Set model to evaluation mode (no gradient computation)\n",
    "    with torch.no_grad():  # No need to track gradients during validation\n",
    "        y_pred_val = model(X_val_tensor)\n",
    "        val_loss = loss_fn(y_pred_val, y_val_tensor)\n",
    "        validation_losses.append(val_loss.item())\n",
    "    \n",
    "    # Print the training and validation loss every 100 epochs\n",
    "    if (epoch+1) % 1000 == 0:\n",
    "        print(f'Epoch [{epoch+1}/{n_epochs}], Train Loss: {train_loss.item():.4f}, Val Loss: {val_loss.item():.4f}')\n"
   ]
  },
  {
   "cell_type": "code",
   "execution_count": 17,
   "id": "c00cd6b2-09e4-4da4-bbe0-f6638d7df707",
   "metadata": {},
   "outputs": [
    {
     "data": {
      "image/png": "[encoded data removed]",
      "text/plain": [
       "<Figure size 640x480 with 1 Axes>"
      ]
     },
     "metadata": {},
     "output_type": "display_data"
    }
   ],
   "source": [
    "# Step 6: Plot the Losses for Training and Validation to see if both are decreasing or if our model is overfitting\n",
    "plt.plot(training_losses, label='Training Loss')\n",
    "plt.plot(validation_losses, label='Validation Loss')\n",
    "plt.legend()\n",
    "plt.title('Training vs Validation Losses')\n",
    "plt.show()"
   ]
  },
  {
   "cell_type": "code",
   "execution_count": 18,
   "id": "ca37ef01-0efa-49a1-b598-906aee2e2a93",
   "metadata": {},
   "outputs": [
    {
     "name": "stdout",
     "output_type": "stream",
     "text": [
      "Test RMSE: 3774.3550\n",
      "Mean Squared Error (MSE) on test set: 14245755.2909\n"
     ]
    }
   ],
   "source": [
    "# Step 7: Evaluate the model on the test set\n",
    "model.eval()  # Set the model to evaluation mode for inference\n",
    "with torch.no_grad():\n",
    "    y_pred_test = model(X_test_tensor)\n",
    "    \n",
    "    # Calculate the RMSE (Root Mean Squared Error) on the test set\n",
    "    rmse = torch.sqrt(loss_fn(y_pred_test, y_test_tensor))\n",
    "    print(f'Test RMSE: {rmse.item():.4f}')\n",
    "    \n",
    "    # Calculate the Mean Squared Error (MSE) for the test set\n",
    "    mse = mean_squared_error(y_test, y_pred_test.numpy())\n",
    "    print(f'Mean Squared Error (MSE) on test set: {mse:.4f}')"
   ]
  },
  {
   "cell_type": "code",
   "execution_count": 19,
   "id": "7e1ffa04-77b4-4753-a0ed-232c653da068",
   "metadata": {},
   "outputs": [],
   "source": [
    "#y_pred_test"
   ]
  },
  {
   "cell_type": "code",
   "execution_count": 20,
   "id": "c8739489-6b57-4c4a-98bf-72b873c42cd4",
   "metadata": {},
   "outputs": [],
   "source": [
    "#y_test_tensor"
   ]
  },
  {
   "cell_type": "code",
   "execution_count": 21,
   "id": "0e0b947f-cb99-4a9c-8cf4-ed2e3bb0ac86",
   "metadata": {},
   "outputs": [],
   "source": [
    "y_predicted = y_pred_test.flatten().tolist()\n",
    "y_actual = y_test_tensor.flatten().tolist()"
   ]
  },
  {
   "cell_type": "code",
   "execution_count": 22,
   "id": "83282aae-b272-4206-ad30-ab5b50ab857b",
   "metadata": {},
   "outputs": [
    {
     "data": {
      "image/png": "[encoded data removed]",
      "text/plain": [
       "<Figure size 1000x800 with 1 Axes>"
      ]
     },
     "metadata": {},
     "output_type": "display_data"
    }
   ],
   "source": [
    "# Using the same code from our first Post with minor modifications\n",
    "plt.figure(figsize=(10, 8))\n",
    "plt.scatter(y_actual, y_predicted)\n",
    "plt.xlabel('Actual Values')\n",
    "plt.ylabel('Predicted Values')\n",
    "plt.title(f'Actual vs Predicted using PyTorch')\n",
    "plt.plot([min(y_actual), max(y_actual)], [min(y_actual), max(y_actual)], color='red', linestyle='--')\n",
    "plt.show()"
   ]
  },
  {
   "cell_type": "markdown",
   "id": "4d79f73b-5f57-427f-9db0-b0476b486d0e",
   "metadata": {},
   "source": [
    "# 6. Conclusion"
   ]
  },
  {
   "cell_type": "markdown",
   "id": "c0aa0be0-a5de-4505-b8bd-e67575691c46",
   "metadata": {},
   "source": [
    "The first thing to notice from our Train vs Validation plot, is that from all indications, it does not seem like our model is overfitting on the training data. Both curves are trending downwards. Using PyTorch gave us a better overall score for the Root Mean Squared Error (RMSE). Here we got a score of 3774 and before, the score was 5801 for the Linear Regression (LR) Model and 4531 for the Kernel Ridge (KR) model. This shows that using a deep learning model, would perform better especially if we finetune it some more.   "
   ]
  },
  {
   "cell_type": "code",
   "execution_count": null,
   "id": "b951140a-39e5-4f91-9c8f-06a64005cae3",
   "metadata": {},
   "outputs": [],
   "source": []
  }
 ],
 "metadata": {
  "kernelspec": {
   "display_name": "Python 3 (ipykernel)",
   "language": "python",
   "name": "python3"
  },
  "language_info": {
   "codemirror_mode": {
    "name": "ipython",
    "version": 3
   },
   "file_extension": ".py",
   "mimetype": "text/x-python",
   "name": "python",
   "nbconvert_exporter": "python",
   "pygments_lexer": "ipython3",
   "version": "3.11.9"
  }
 },
 "nbformat": 4,
 "nbformat_minor": 5
}
